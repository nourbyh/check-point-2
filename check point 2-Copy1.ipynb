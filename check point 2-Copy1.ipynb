{
 "cells": [
  {
   "cell_type": "markdown",
   "id": "2361403c",
   "metadata": {},
   "source": [
    "# Question 1 :\n"
   ]
  },
  {
   "cell_type": "code",
   "execution_count": 8,
   "id": "4a79aa37",
   "metadata": {},
   "outputs": [
    {
     "name": "stdout",
     "output_type": "stream",
     "text": [
      "enter your firstname : nour\n",
      "enter your lastname : bouyahiaoui\n",
      "bouyahiaoui  nour\n"
     ]
    }
   ],
   "source": [
    "firstname=input(\"enter your firstname : \")\n",
    "lastname=input(\"enter your lastname : \")\n",
    "print(lastname,\"\",firstname)"
   ]
  },
  {
   "cell_type": "markdown",
   "id": "ede8cc65",
   "metadata": {},
   "source": [
    "# Question 2 :\n"
   ]
  },
  {
   "cell_type": "code",
   "execution_count": 11,
   "id": "70f90524",
   "metadata": {},
   "outputs": [
    {
     "name": "stdout",
     "output_type": "stream",
     "text": [
      "Enter an intiger : 5\n",
      "result :  615\n"
     ]
    }
   ],
   "source": [
    "n=int(input(\"Enter an intiger : \"))\n",
    "num= (n+n*11+n*111)\n",
    "print('result : ',num)"
   ]
  },
  {
   "cell_type": "markdown",
   "id": "03ca43cf",
   "metadata": {},
   "source": [
    "# Question 3 :\n"
   ]
  },
  {
   "cell_type": "code",
   "execution_count": 6,
   "id": "49f049a3",
   "metadata": {},
   "outputs": [
    {
     "name": "stdout",
     "output_type": "stream",
     "text": [
      "Enter a number: 16\n",
      "This is an even number.\n"
     ]
    }
   ],
   "source": [
    "num = int(input(\"Enter a number: \"))\n",
    "n = num % 2\n",
    "if n == 0:\n",
    "    print(\"This is an even number.\")\n",
    "else:\n",
    "    print(\"This is an odd number.\")"
   ]
  },
  {
   "cell_type": "markdown",
   "id": "d0347cb7",
   "metadata": {},
   "source": [
    "# Question 4 :\n"
   ]
  },
  {
   "cell_type": "code",
   "execution_count": 9,
   "id": "971c2c10",
   "metadata": {},
   "outputs": [
    {
     "name": "stdout",
     "output_type": "stream",
     "text": [
      "2002,2009,2016,2023,2037,2044,2051,2058,2072,2079,2086,2093,2107,2114,2121,2128,2142,2149,2156,2163,2177,2184,2191,2198,2212,2219,2226,2233,2247,2254,2261,2268,2282,2289,2296,2303,2317,2324,2331,2338,2352,2359,2366,2373,2387,2394,2401,2408,2422,2429,2436,2443,2457,2464,2471,2478,2492,2499,2506,2513,2527,2534,2541,2548,2562,2569,2576,2583,2597,2604,2611,2618,2632,2639,2646,2653,2667,2674,2681,2688,2702,2709,2716,2723,2737,2744,2751,2758,2772,2779,2786,2793,2807,2814,2821,2828,2842,2849,2856,2863,2877,2884,2891,2898,2912,2919,2926,2933,2947,2954,2961,2968,2982,2989,2996,3003,3017,3024,3031,3038,3052,3059,3066,3073,3087,3094,3101,3108,3122,3129,3136,3143,3157,3164,3171,3178,3192,3199,\b\n"
     ]
    }
   ],
   "source": [
    "for n in range(2000,3200):\n",
    "    if (n%7 == 0) and (n%5!=0) :\n",
    "        print(n,end=',')\n",
    "print(\"\\b\")              "
   ]
  },
  {
   "cell_type": "markdown",
   "id": "271f0b05",
   "metadata": {},
   "source": [
    "# Question 5 :"
   ]
  },
  {
   "cell_type": "code",
   "execution_count": 5,
   "id": "95c1bf55",
   "metadata": {},
   "outputs": [
    {
     "name": "stdout",
     "output_type": "stream",
     "text": [
      "Enter a number : 2\n",
      "the factorial is : 2\n"
     ]
    }
   ],
   "source": [
    "n = int(input(\"Enter a number : \")) \n",
    "fact = 1\n",
    "i = 1\n",
    "while i <= n:\n",
    "    fact = fact * i;\n",
    "    i = i + 1\n",
    "print('the factorial is :',fact)"
   ]
  },
  {
   "cell_type": "markdown",
   "id": "0539f2f3",
   "metadata": {},
   "source": [
    "# Question 6 :"
   ]
  },
  {
   "cell_type": "code",
   "execution_count": 7,
   "id": "a8a93817",
   "metadata": {},
   "outputs": [
    {
     "name": "stdout",
     "output_type": "stream",
     "text": [
      "Enter your String : hello team\n",
      "Final String :      hlota\n"
     ]
    }
   ],
   "source": [
    "str1 = input(\"Enter your String : \")\n",
    "str2 = \"\"\n",
    "for i in range(len(str1)):\n",
    "    if (i% 2==0):\n",
    "        str2=str2+str1[i]\n",
    "print(\"Final String :     \", str2)   "
   ]
  },
  {
   "cell_type": "markdown",
   "id": "60f18a24",
   "metadata": {},
   "source": [
    "# Question 7 :"
   ]
  },
  {
   "cell_type": "code",
   "execution_count": 8,
   "id": "04d91e27",
   "metadata": {},
   "outputs": [
    {
     "name": "stdout",
     "output_type": "stream",
     "text": [
      "Enter a price : 100\n",
      "discount :  10.0\n",
      "final price :  90.0\n"
     ]
    }
   ],
   "source": [
    "price= int(input(\"Enter a price : \"))\n",
    "if(price>0):\n",
    "    if price>=500:\n",
    "        disc=(price*0.5)\n",
    "    elif price>=200 and price<500 :\n",
    "        disc=(price*0.3)\n",
    "    else:\n",
    "        disc=(price*0.1)\n",
    "    \n",
    "    print('discount : ',disc)\n",
    "    print('final price : ',price-disc)\n",
    "\n",
    "else:\n",
    "    print('enter a positive number')"
   ]
  },
  {
   "cell_type": "code",
   "execution_count": null,
   "id": "02bbb48b",
   "metadata": {},
   "outputs": [],
   "source": []
  }
 ],
 "metadata": {
  "kernelspec": {
   "display_name": "Python 3 (ipykernel)",
   "language": "python",
   "name": "python3"
  },
  "language_info": {
   "codemirror_mode": {
    "name": "ipython",
    "version": 3
   },
   "file_extension": ".py",
   "mimetype": "text/x-python",
   "name": "python",
   "nbconvert_exporter": "python",
   "pygments_lexer": "ipython3",
   "version": "3.9.7"
  }
 },
 "nbformat": 4,
 "nbformat_minor": 5
}
